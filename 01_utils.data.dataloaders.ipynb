{
 "cells": [
  {
   "cell_type": "code",
   "execution_count": null,
   "metadata": {},
   "outputs": [],
   "source": [
    "%load_ext autoreload\n",
    "%autoreload 2"
   ]
  },
  {
   "cell_type": "code",
   "execution_count": null,
   "metadata": {},
   "outputs": [],
   "source": [
    "#default_exp utils.data.dataloaders"
   ]
  },
  {
   "cell_type": "code",
   "execution_count": null,
   "metadata": {},
   "outputs": [],
   "source": [
    "#export \n",
    "from PrimeCNNv3.imports import *"
   ]
  },
  {
   "cell_type": "markdown",
   "metadata": {},
   "source": [
    "# DataLoaders"
   ]
  },
  {
   "cell_type": "markdown",
   "metadata": {},
   "source": [
    "A Place to store train and validation data."
   ]
  },
  {
   "cell_type": "code",
   "execution_count": null,
   "metadata": {},
   "outputs": [],
   "source": [
    "#export \n",
    "\n",
    "class DataLoaders:\n",
    "    '''Wrapper for Torch Dataloader specifically for train and valid ds'''\n",
    "    def __init__(self, *ds, device='cpu'):\n",
    "        '''\n",
    "            Args:\n",
    "                *ds: train and valid Dataset\n",
    "                device: on which device to put dataset on while training/ sending data to model\n",
    "        '''\n",
    "        self.train, self.valid = ds\n",
    "        self.device = device"
   ]
  },
  {
   "cell_type": "code",
   "execution_count": null,
   "metadata": {},
   "outputs": [],
   "source": [
    "#hide\n",
    "\n",
    "dls = DataLoaders('train','valid')\n",
    "\n",
    "assert dls.train == 'train'\n",
    "assert dls.valid == 'valid'\n",
    "assert dls.device == 'cpu'"
   ]
  },
  {
   "cell_type": "code",
   "execution_count": null,
   "metadata": {},
   "outputs": [
    {
     "name": "stdout",
     "output_type": "stream",
     "text": [
      "Converted 00_utils.data.dataset.ipynb.\n",
      "Converted 01_utils.data.dataloaders.ipynb.\n",
      "Converted 02_utils.vizualize.ipynb.\n",
      "Converted 03_callbacks.ipynb.\n",
      "Converted 04_learner.ipynb.\n",
      "Converted index.ipynb.\n"
     ]
    }
   ],
   "source": [
    "from nbdev.export import notebook2script; notebook2script()"
   ]
  },
  {
   "cell_type": "code",
   "execution_count": null,
   "metadata": {},
   "outputs": [],
   "source": []
  }
 ],
 "metadata": {
  "kernelspec": {
   "display_name": "Python 3",
   "language": "python",
   "name": "python3"
  }
 },
 "nbformat": 4,
 "nbformat_minor": 4
}
