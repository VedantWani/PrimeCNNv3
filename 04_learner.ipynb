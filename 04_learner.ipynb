{
 "cells": [
  {
   "cell_type": "code",
   "execution_count": null,
   "metadata": {},
   "outputs": [],
   "source": [
    "%load_ext autoreload\n",
    "%autoreload 2"
   ]
  },
  {
   "cell_type": "code",
   "execution_count": null,
   "metadata": {},
   "outputs": [],
   "source": [
    "#default_exp learner"
   ]
  },
  {
   "cell_type": "markdown",
   "metadata": {},
   "source": [
    "# Learner"
   ]
  },
  {
   "cell_type": "markdown",
   "metadata": {},
   "source": [
    "Leaner to train the model"
   ]
  },
  {
   "cell_type": "code",
   "execution_count": null,
   "metadata": {},
   "outputs": [],
   "source": [
    "#export \n",
    "from torch.optim.lr_scheduler import _LRScheduler\n",
    "\n",
    "\n",
    "import copy\n",
    "\n",
    "from PrimeCNNv3.imports import *\n",
    "from PrimeCNNv3.utils.vizualize import plot_lr\n"
   ]
  },
  {
   "cell_type": "code",
   "execution_count": null,
   "metadata": {},
   "outputs": [],
   "source": [
    "#export\n",
    "class Learner:\n",
    "    def __init__(self, model, dls, metric, cbs, loss_func, opt_func = None, lr_schedular_func = None):\n",
    "        self.model = model\n",
    "        self.dls = dls\n",
    "        self.device = torch.device(dls.device)\n",
    "        self.metric = metric\n",
    "        self.cbs = cbs\n",
    "        self.loss_func = loss_func\n",
    "        self.opt_func = opt_func\n",
    "        self.lr_schedular_func = lr_schedular_func\n",
    "        \n",
    "        self.opt = None\n",
    "        self.lr_schedular = None\n",
    "        \n",
    "        #get the number of layer groups in the model\n",
    "        self.layer_groups = len([*self.model.children()])\n",
    "        \n",
    "        for cb in self.cbs:\n",
    "            cb.learner = self\n",
    "        \n",
    "    \n",
    "    def lr_finder(self, final_lr = 10, start_lr = 1e-08,num_iter = 100, wd = 0, beta = 0.98, suggestion = True):\n",
    "        \n",
    "        #save model, optimizer and lr_schdeular\n",
    "        saved_param = {\n",
    "            'model' : copy.deepcopy(self.model.state_dict()),\n",
    "            'optimizer' : copy.deepcopy(self.opt.state_dict()) if self.opt is not None else None,\n",
    "            'lr_schedular' : copy.deepcopy(self.lr_schedular if self.lr_schedular is not None else None)\n",
    "        }\n",
    "        store_cbs = self.cbs\n",
    "        self.cbs = []\n",
    "        avg_loss = 0.\n",
    "        best_loss = 0.\n",
    "        \n",
    "        lrs = []\n",
    "        lr_loss = []\n",
    "        self.num_iter = num_iter\n",
    "        self.model.to(self.device)\n",
    "        self.training = True\n",
    "    \n",
    "        self._init_optimizer(epochs = None, lr= start_lr, wd = wd)\n",
    "        self.lr_schedular = ExponentialLR(self.opt,final_lr= final_lr, num_iter= self.num_iter)\n",
    "        \n",
    "        for self.num in  progress_bar(range(self.num_iter), leave = False):\n",
    "            xb,yb = iter(self.dls.train).next()\n",
    "            self.xb = xb.to(self.device, non_blocking = True)\n",
    "            self.yb = yb.to(self.device, non_blocking = True)\n",
    "            \n",
    "            #do one batch\n",
    "            self.do_batch()\n",
    "            \n",
    "            #take moving average\n",
    "            avg_loss = avg_loss * beta + (1-beta) * self.running_loss\n",
    "            smooth_loss = avg_loss / (1 - beta**(self.num + 1))\n",
    "            \n",
    "            if self.num + 1 > 1 and smooth_loss > 4 * best_loss:\n",
    "                print('Loss exploding.. stopping training')\n",
    "                break\n",
    "            \n",
    "            if smooth_loss < best_loss or self.num + 1 == 1:\n",
    "                best_loss = smooth_loss\n",
    "                \n",
    "            #refactor later\n",
    "            lr_loss.append(smooth_loss)\n",
    "            lrs.append(self.lr_schedular.get_last_lr())\n",
    "        \n",
    "        if suggestion:\n",
    "            lr_s, losses = torch.tensor(lrs[num_iter // 10 : -5]), torch.tensor(lr_loss[num_iter // 10 :-5])\n",
    "            if not (len(losses) == 0):\n",
    "                lr_min = lr_s[losses.argmin()].item()\n",
    "                grad = (losses[1:] - losses[:-1]) / (lr_s[1:].log() - lr_s[:-1].log())\n",
    "                \n",
    "                lr_steep = lr_s[grad.argmin()].item()\n",
    "                \n",
    "                print(f'Suggested LR : \\nmin_lr: {lr_min / 10} \\nlr_steep: {lr_steep}' )\n",
    "            else:\n",
    "                print(f'Length of Loss is zero, NO suggestion')\n",
    "        \n",
    "        plot_lr(lrs, lr_loss)\n",
    "        \n",
    "        self.cbs = store_cbs\n",
    "        self.model.load_state_dict(saved_param['model'])\n",
    "        self.xb, self.yb = None, None\n",
    "        if saved_param['optimizer'] is None:\n",
    "            self.opt = None\n",
    "        else:\n",
    "            self.opt.load_state_dict(saved_param['optimizer'])\n",
    "        \n",
    "        if saved_param['lr_schedular'] is None:\n",
    "            self.lr_schedular = None\n",
    "        else:\n",
    "            self.lr_schedular = saved_param['lr_schedular']\n",
    "            \n",
    "        \n",
    "    \n",
    "    def do_batch(self):\n",
    "        self('before_batch')\n",
    "        self.batch_size = len(self.yb)\n",
    "        self.preds = self.model(self.xb)\n",
    "        self.loss = self.loss_func(self.preds, self.yb)\n",
    "        self.running_loss = self.loss.item()\n",
    "        \n",
    "        if self.training:\n",
    "            self.opt.zero_grad()\n",
    "            self.loss.backward()\n",
    "            self.opt.step()\n",
    "            \n",
    "            if self.lr_schedular is not None:\n",
    "                self.lr_schedular.step()\n",
    "                \n",
    "        self('after_batch')\n",
    "      \n",
    "    \n",
    "    def do_valid_epoch(self):\n",
    "        self('before_valid_epoch')\n",
    "    \n",
    "        dl = self.dls.valid\n",
    "        \n",
    "        for self.num, self.batch in enumerate(progress_bar(dl, parent= self.mb)):\n",
    "            with torch.no_grad():\n",
    "                self.do_batch()\n",
    "                \n",
    "        self('after_valid_epoch')\n",
    "   \n",
    "    def do_train_epoch(self):\n",
    "        self('before_train_epoch')\n",
    "        \n",
    "        dl = self.dls.train\n",
    "        for self.num, self.batch in enumerate(progress_bar(dl, parent= self.mb)):\n",
    "            self.do_batch()\n",
    "            \n",
    "        self('after_train_epoch')\n",
    "    \n",
    "    \n",
    "    def fit(self, epochs, lr, wd, **kwargs):\n",
    "        \n",
    "        \n",
    "        self._init_optimizer(epochs, lr, wd, **kwargs)\n",
    "        \n",
    "        #if self.lr_schedular_func is not None:\n",
    "            #only for one cycle (Note: can be set at before_fit callback)\n",
    "           # self.lr_schedular = torch.optim.lr_scheduler.OneCycleLR(self.opt, max_lr = lr, epochs = epochs,\n",
    "                                                                #steps_per_epoch = len(self.dls.train))\n",
    "        self('before_fit')\n",
    "        try:\n",
    "          \n",
    "            for self.epoch in self.mb:\n",
    "                self('before_epoch')\n",
    "                self.do_train_epoch()\n",
    "                self.do_valid_epoch()\n",
    "                self('after_epoch')\n",
    "\n",
    "        except FitCancelException: pass\n",
    "        \n",
    "        self('after_fit')\n",
    "    \n",
    "    def one_cycle_fit(self, epochs, max_lr, wd, div_factor = 25., pct_start= 0.25, **kwargs):\n",
    "        \n",
    "    \n",
    "        self._init_optimizer(epochs, max_lr, wd, **kwargs)\n",
    "        \n",
    "        \n",
    "        \n",
    "        self.lr_schedular = torch.optim.lr_scheduler.OneCycleLR(self.opt, max_lr = max_lr, epochs = epochs,\n",
    "                                                                steps_per_epoch = len(self.dls.train), div_factor= div_factor,\n",
    "                                                           pct_start = pct_start)\n",
    "        self('before_fit')\n",
    "        try:\n",
    "            \n",
    "            for self.epoch in self.mb:\n",
    "                self('before_epoch')\n",
    "                self.do_train_epoch()\n",
    "                self.do_valid_epoch()\n",
    "                self('after_epoch')\n",
    "  \n",
    "        except FitCancelException: pass\n",
    "        \n",
    "       \n",
    "        \n",
    "        self('after_fit')\n",
    "    \n",
    "    def _init_optimizer(self, epochs, lr, wd, **kwargs):\n",
    "        self.epochs = epochs\n",
    "        self.lr = lr\n",
    "        self.wd = wd\n",
    "        \n",
    "        self.opt = self.opt_func(params = filter(lambda p: p.requires_grad, self.model.parameters()), lr = self.lr,\n",
    "                                weight_decay = self.wd,eps = 1e-05, betas = (0.9,0.99), **kwargs)\n",
    "    \n",
    "    def freeze_to(self, freeze_to_till):\n",
    "        '''\n",
    "            change require grad to false i.e freeze the layers\n",
    "        '''\n",
    "        if freeze_to_till < self.layer_groups or freeze_to_till > -self.layer_groups:\n",
    "\n",
    "            freeze_to_till = freeze_to_till if freeze_to_till >= 0 else (self.layer_groups) + freeze_to_till\n",
    "\n",
    "            for idx, layer in enumerate(self.model.children()):\n",
    "                if idx >= freeze_to_till:\n",
    "                    print(f'Layer :{idx} unFreeze')\n",
    "                    for param in layer.parameters():\n",
    "                        param.require_grad = True\n",
    "\n",
    "                else:\n",
    "                    print(f'Layer :{idx} Freeze')\n",
    "                    for param in layer.parameters():\n",
    "                        param.require_grad = False\n",
    "                        \n",
    "    def freeze(self):\n",
    "        '''\n",
    "            Freeze last group of layers (in this case classifier)\n",
    "        '''\n",
    "        self.freeze_to(freeze_to_till=-1)\n",
    "        \n",
    "    def unfreeze(self):\n",
    "        self.freeze_to(freeze_to_till=0)\n",
    "        \n",
    "    def __call__(self, name):\n",
    "        for cb in self.cbs:\n",
    "            getattr(cb,name,noop)()\n",
    "    \n",
    "    def save_model(self, path):\n",
    "        '''\n",
    "        save the model\n",
    "        '''\n",
    "        torch.save(self.model.state_dict(), path)\n",
    "   \n",
    "    def load_model(self, path):\n",
    "        '''\n",
    "        load the model wieghts\n",
    "        '''\n",
    "        self.model.load_state_dict(torch.load(path))"
   ]
  },
  {
   "cell_type": "code",
   "execution_count": null,
   "metadata": {},
   "outputs": [],
   "source": [
    "class ExponentialLR(_LRScheduler):\n",
    "    ''' \n",
    "        ExponentialLR for LR range finder\n",
    "    '''\n",
    "    def __init__(self, opt, final_lr,num_iter, last_epoch = -1):\n",
    "        '''\n",
    "            ExponentialLR\n",
    "            \n",
    "            Args:\n",
    "                opt (optimizer) : optimizer to use\n",
    "                final_lr(float) : max lr bound\n",
    "                num_iter(int) : number of iterations\n",
    "                last_epoch (int): -1\n",
    "        '''\n",
    "        \n",
    "        self.final_lr = final_lr\n",
    "        self.num_iter = num_iter\n",
    "        assert num_iter > 1, 'number of iteration must be grater than 1'\n",
    "        \n",
    "        super(ExponentialLR, self).__init__(opt, last_epoch=last_epoch)\n",
    "    \n",
    "    def get_lr(self):\n",
    "        r = self.last_epoch / (self.num_iter - 1)\n",
    "        \n",
    "        return [base_lr * ((self.final_lr / base_lr)**r) for base_lr in self.base_lrs]"
   ]
  },
  {
   "cell_type": "code",
   "execution_count": null,
   "metadata": {},
   "outputs": [],
   "source": [
    "#export\n",
    "class FitCancelException(Exception):\n",
    "    pass"
   ]
  },
  {
   "cell_type": "code",
   "execution_count": null,
   "metadata": {},
   "outputs": [],
   "source": [
    "#hide\n",
    "import os\n",
    "from torchvision import datasets, models, transforms\n",
    "from PrimeCNNv3.utils.data.dataloaders import DataLoaders\n",
    "from PrimeCNNv3.utils.data.dataset import Dataset\n",
    "from PrimeCNNv3.callbacks import *\n",
    "from PrimeCNNv3.metric import *"
   ]
  },
  {
   "cell_type": "code",
   "execution_count": null,
   "metadata": {},
   "outputs": [],
   "source": [
    "def random_seed(seed):\n",
    "    '''Sets the seed value for reproducibility'''\n",
    "    torch.manual_seed(seed)\n",
    "    torch.backends.cudnn.deterministic = True\n",
    "    torch.backends.cudnn.benchmark = False\n",
    "    np.random.seed(seed)\n",
    "    random.seed(seed)\n",
    "    os.environ['PYTHONHASHSEED'] = str(seed)"
   ]
  },
  {
   "cell_type": "code",
   "execution_count": null,
   "metadata": {},
   "outputs": [
    {
     "name": "stdout",
     "output_type": "stream",
     "text": [
      "Files already downloaded and verified\n",
      "Files already downloaded and verified\n"
     ]
    }
   ],
   "source": [
    "#hide\n",
    "random_seed(0)\n",
    "model = models.resnet18(pretrained = True)\n",
    "model.fc = nn.Linear(512, out_features=10, bias=True)\n",
    "transform=transforms.Compose([\n",
    "        transforms.ToTensor(),\n",
    "        transforms.Normalize([0.485, 0.456, 0.406],[0.229, 0.224, 0.225])\n",
    "        ])\n",
    "dataset1 = datasets.CIFAR10('../data', train=True, download=True,\n",
    "                       transform=transform)\n",
    "testset = datasets.CIFAR10(root='./data', train=False,\n",
    "                                       download=True, transform=transform)\n",
    "\n",
    "train_loader = torch.utils.data.DataLoader(dataset1,batch_size = 64)\n",
    "                                       \n",
    "valid_loader = torch.utils.data.DataLoader(testset, batch_size = 64)\n",
    "dls = DataLoaders(train_loader, valid_loader, device='cuda') \n",
    "\n",
    "cbs = [SetupLearnerCB(),Recorder(),ShowStats()]\n",
    "\n",
    "learn = Learner(model,dls, metric = [accuracy, precision, recall, f1score], \n",
    "                cbs = cbs,loss_func=nn.CrossEntropyLoss(), \n",
    "                opt_func=torch.optim.AdamW )"
   ]
  },
  {
   "cell_type": "code",
   "execution_count": null,
   "metadata": {},
   "outputs": [
    {
     "data": {
      "text/html": [
       "\n",
       "    <div>\n",
       "        <style>\n",
       "            /* Turns off some styling */\n",
       "            progress {\n",
       "                /* gets rid of default border in Firefox and Opera. */\n",
       "                border: none;\n",
       "                /* Needs to be in here for Safari polyfill so background images work as expected. */\n",
       "                background-size: auto;\n",
       "            }\n",
       "            .progress-bar-interrupted, .progress-bar-interrupted::-webkit-progress-bar {\n",
       "                background: #F44336;\n",
       "            }\n",
       "        </style>\n",
       "      <progress value='91' class='' max='100' style='width:300px; height:20px; vertical-align: middle;'></progress>\n",
       "      91.00% [91/100 00:06<00:00]\n",
       "    </div>\n",
       "    "
      ],
      "text/plain": [
       "<IPython.core.display.HTML object>"
      ]
     },
     "metadata": {},
     "output_type": "display_data"
    },
    {
     "name": "stdout",
     "output_type": "stream",
     "text": [
      "Loss exploding.. stopping training\n",
      "Suggested LR : \n",
      "min_lr: 0.008111308515071868 \n",
      "lr_steep: 0.00015199110202956945\n"
     ]
    },
    {
     "data": {
      "image/png": "[encoded data removed]",
      "text/plain": [
       "<Figure size 432x288 with 1 Axes>"
      ]
     },
     "metadata": {
      "needs_background": "light"
     },
     "output_type": "display_data"
    }
   ],
   "source": [
    "#hide\n",
    "random_seed(0)\n",
    "#learn.freeze()\n",
    "learn.lr_finder()"
   ]
  },
  {
   "cell_type": "code",
   "execution_count": null,
   "metadata": {},
   "outputs": [
    {
     "data": {
      "text/html": [
       "<table border=\"1\" class=\"dataframe\">\n",
       "  <thead>\n",
       "    <tr style=\"text-align: left;\">\n",
       "      <th>Epoch</th>\n",
       "      <th>train_loss</th>\n",
       "      <th>valid_loss</th>\n",
       "      <th>accuracy</th>\n",
       "      <th>precision</th>\n",
       "      <th>recall</th>\n",
       "      <th>f1_score</th>\n",
       "      <th>time</th>\n",
       "    </tr>\n",
       "  </thead>\n",
       "  <tbody>\n",
       "    <tr>\n",
       "      <td>0</td>\n",
       "      <td>0.799041</td>\n",
       "      <td>0.876615</td>\n",
       "      <td>0.7154</td>\n",
       "      <td>0.727805</td>\n",
       "      <td>0.7154</td>\n",
       "      <td>0.711649</td>\n",
       "      <td>00:46</td>\n",
       "    </tr>\n",
       "    <tr>\n",
       "      <td>1</td>\n",
       "      <td>0.585704</td>\n",
       "      <td>0.741553</td>\n",
       "      <td>0.7575</td>\n",
       "      <td>0.763627</td>\n",
       "      <td>0.7575</td>\n",
       "      <td>0.753597</td>\n",
       "      <td>00:48</td>\n",
       "    </tr>\n",
       "    <tr>\n",
       "      <td>2</td>\n",
       "      <td>0.447472</td>\n",
       "      <td>0.659835</td>\n",
       "      <td>0.785</td>\n",
       "      <td>0.789852</td>\n",
       "      <td>0.785</td>\n",
       "      <td>0.783901</td>\n",
       "      <td>00:48</td>\n",
       "    </tr>\n",
       "    <tr>\n",
       "      <td>3</td>\n",
       "      <td>0.313291</td>\n",
       "      <td>0.715216</td>\n",
       "      <td>0.7869</td>\n",
       "      <td>0.793389</td>\n",
       "      <td>0.7869</td>\n",
       "      <td>0.786292</td>\n",
       "      <td>00:51</td>\n",
       "    </tr>\n",
       "    <tr>\n",
       "      <td>4</td>\n",
       "      <td>0.241612</td>\n",
       "      <td>0.719766</td>\n",
       "      <td>0.7974</td>\n",
       "      <td>0.799303</td>\n",
       "      <td>0.7974</td>\n",
       "      <td>0.796518</td>\n",
       "      <td>00:51</td>\n",
       "    </tr>\n",
       "  </tbody>\n",
       "</table>"
      ],
      "text/plain": [
       "<IPython.core.display.HTML object>"
      ]
     },
     "metadata": {},
     "output_type": "display_data"
    },
    {
     "data": {
      "image/png": "[encoded data removed]",
      "text/plain": [
       "<Figure size 432x288 with 1 Axes>"
      ]
     },
     "metadata": {},
     "output_type": "display_data"
    }
   ],
   "source": [
    "random_seed(0)\n",
    "learn.fit(5,1e-03,wd = 1e-04)"
   ]
  },
  {
   "cell_type": "code",
   "execution_count": null,
   "metadata": {},
   "outputs": [],
   "source": [
    "t = learn.cbs[1].accumetric.target"
   ]
  },
  {
   "cell_type": "code",
   "execution_count": null,
   "metadata": {},
   "outputs": [],
   "source": [
    "f = torch.cat((t))"
   ]
  },
  {
   "cell_type": "code",
   "execution_count": null,
   "metadata": {},
   "outputs": [
    {
     "data": {
      "text/plain": [
       "torch.Size([10000])"
      ]
     },
     "execution_count": null,
     "metadata": {},
     "output_type": "execute_result"
    }
   ],
   "source": [
    "f.shape"
   ]
  }
 ],
 "metadata": {
  "kernelspec": {
   "display_name": "Python 3",
   "language": "python",
   "name": "python3"
  }
 },
 "nbformat": 4,
 "nbformat_minor": 4
}
