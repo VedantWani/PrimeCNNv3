{
 "cells": [
  {
   "cell_type": "code",
   "execution_count": 11,
   "metadata": {},
   "outputs": [
    {
     "name": "stdout",
     "output_type": "stream",
     "text": [
      "The autoreload extension is already loaded. To reload it, use:\n",
      "  %reload_ext autoreload\n"
     ]
    }
   ],
   "source": [
    "%load_ext autoreload\n",
    "%autoreload 2"
   ]
  },
  {
   "cell_type": "code",
   "execution_count": 12,
   "metadata": {},
   "outputs": [],
   "source": [
    "#default_exp utils.vizualize"
   ]
  },
  {
   "cell_type": "markdown",
   "metadata": {},
   "source": [
    "# Utils"
   ]
  },
  {
   "cell_type": "markdown",
   "metadata": {},
   "source": [
    "A Module for vizualizing data"
   ]
  },
  {
   "cell_type": "code",
   "execution_count": 13,
   "metadata": {},
   "outputs": [],
   "source": [
    "#export\n",
    "from PrimeCNNv3.imports import *"
   ]
  },
  {
   "cell_type": "code",
   "execution_count": 14,
   "metadata": {},
   "outputs": [],
   "source": [
    "#export\n",
    "def show_image(image,ax = None, title = None, figsize = (5,5)):\n",
    "    '''shows a single image'''\n",
    "    \n",
    "    if ax is None: _, ax = plt.subplots(figsize = figsize)\n",
    "    \n",
    "    if title is not None : ax.set_title(title)\n",
    "    \n",
    "    ax.imshow(image)\n",
    "    ax.axis('off')\n",
    "    \n",
    "    "
   ]
  },
  {
   "cell_type": "code",
   "execution_count": 15,
   "metadata": {},
   "outputs": [],
   "source": [
    "#hide\n",
    "def show_images(image_ds, nrows = 1, ncols = None):\n",
    "    '''Show mulitple images based on number of rows and cols'''\n",
    "    if ncols is None: ncols = int(len(image_ds)/nrows)\n",
    "    _,axs = plt.subplots(nrows, ncols, figsize = (10,10))\n",
    "    axs = axs.flatten()\n",
    "    \n",
    "    for img_lbl,ax in zip(image_ds, axs):\n",
    "        show_image(image = img_lbl[0], title = img_lbl[1], ax = ax)"
   ]
  },
  {
   "cell_type": "code",
   "execution_count": 76,
   "metadata": {},
   "outputs": [],
   "source": [
    "#export\n",
    "\n",
    "def plot_loss_update(nbs_batches,epochs, mb, train_loss, valid_loss):\n",
    "    '''\n",
    "        Dynamic loss plot during training\n",
    "        epoch to start from 1\n",
    "    '''\n",
    "    graphs = [(range(len(train_loss)),train_loss), (nbs_batches,valid_loss)]\n",
    "   # graphs = [(range(1, len(train_loss)+1),train_loss)]\n",
    " \n",
    "    x_bounds= (0,(epochs - len(nbs_batches)) * nbs_batches[0] + len(train_loss))\n",
    "    y_bounds = (0, max(max(train_loss),max(valid_loss)))\n",
    "    \n",
    "    mb.update_graph(graphs,x_bounds, y_bounds, figsize = (6,4))"
   ]
  },
  {
   "cell_type": "code",
   "execution_count": 79,
   "metadata": {},
   "outputs": [],
   "source": [
    "#export\n",
    "def plot_lr(lrs, losses):\n",
    "    '''\n",
    "        Plot lr vs loss graphs\n",
    "    '''\n",
    "    _,ax = plt.subplots(1,1, figsize= (6,4))\n",
    "    ax.set_xlabel('lrs')\n",
    "    ax.set_ylabel('Loss')\n",
    "    ax.set_xscale('log')\n",
    "    ax.plot(lrs[:-2],losses[:-2])"
   ]
  },
  {
   "cell_type": "code",
   "execution_count": 80,
   "metadata": {},
   "outputs": [
    {
     "name": "stdout",
     "output_type": "stream",
     "text": [
      "Converted 00_utils.data.dataset.ipynb.\n",
      "Converted 01_utils.data.dataloaders.ipynb.\n",
      "Converted 02_utils.vizualize.ipynb.\n",
      "Converted 03_callbacks.ipynb.\n",
      "Converted 04_learner.ipynb.\n",
      "Converted index.ipynb.\n"
     ]
    }
   ],
   "source": [
    "from nbdev.export import notebook2script; notebook2script()"
   ]
  },
  {
   "cell_type": "code",
   "execution_count": null,
   "metadata": {},
   "outputs": [],
   "source": []
  }
 ],
 "metadata": {
  "kernelspec": {
   "display_name": "Python 3",
   "language": "python",
   "name": "python3"
  },
  "language_info": {
   "codemirror_mode": {
    "name": "ipython",
    "version": 3
   },
   "file_extension": ".py",
   "mimetype": "text/x-python",
   "name": "python",
   "nbconvert_exporter": "python",
   "pygments_lexer": "ipython3",
   "version": "3.8.2"
  }
 },
 "nbformat": 4,
 "nbformat_minor": 4
}
