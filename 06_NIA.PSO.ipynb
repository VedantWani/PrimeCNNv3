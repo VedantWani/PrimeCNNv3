{
 "cells": [
  {
   "cell_type": "code",
   "execution_count": null,
   "id": "821c8fff",
   "metadata": {},
   "outputs": [],
   "source": [
    "%load_ext autoreload\n",
    "%autoreload 2"
   ]
  },
  {
   "cell_type": "code",
   "execution_count": null,
   "id": "19a824f9",
   "metadata": {},
   "outputs": [],
   "source": [
    "#default_exp nia.pso"
   ]
  },
  {
   "cell_type": "markdown",
   "id": "356e48f4",
   "metadata": {},
   "source": [
    "# Particle Swarm Optimization\n",
    "\n",
    "    Implementation of PSO "
   ]
  },
  {
   "cell_type": "code",
   "execution_count": null,
   "id": "a170e4f8",
   "metadata": {},
   "outputs": [],
   "source": [
    "#export\n",
    "from PrimeCNNv3.imports import *"
   ]
  },
  {
   "cell_type": "code",
   "execution_count": null,
   "id": "5e0bd8a4",
   "metadata": {},
   "outputs": [],
   "source": [
    "#export\n",
    "\n",
    "class Particle:\n",
    "    pass"
   ]
  },
  {
   "cell_type": "code",
   "execution_count": null,
   "id": "59bcdc4d",
   "metadata": {},
   "outputs": [],
   "source": [
    "#export\n",
    "class PSO:\n",
    "    def __init__(self,c1,c2,weight_func,population, fitness_eval_func, n_dims, dim_limits):\n",
    "        \n",
    "        self.population = population\n",
    "        self.fitness_eval_func = fitness_eval_func\n",
    "        self.n_dims = n_dims\n",
    "        self.dim_limits = dim_limits\n",
    "        self.best_solutions = []\n",
    "        self.weight_func = weight_func #weight is is function to adopt random intertia weight\n",
    "        self.c1 = c1\n",
    "        self.c2 = c2\n",
    "        self.gbest = Particle()\n",
    "        self.gbest.fitness = float('-inf') #maximize\n",
    "        self.Swarm = []\n",
    "        \n",
    "    def _initialize_population(self):\n",
    "        for solution in range(self.population):\n",
    "            start = 0\n",
    "            particle = Particle()\n",
    "            particle.position = np.array([])\n",
    "            particle.velocity = np.array([])\n",
    "            for end in self.dim_limits:\n",
    "                \n",
    "                pos_vec = np.random.uniform(*self.dim_limits[end], (end-start))\n",
    "                velocity_vec = np.random.uniform(*self.dim_limits[end], (end-start))\n",
    "                \n",
    "                particle.position = np.concatenate((particle.position, pos_vec))\n",
    "                particle.velocity = np.concatenate((particle.velocity, velocity_vec))\n",
    "                \n",
    "                start = end\n",
    "            \n",
    "            particle.fitness = self.fitness_eval_func(particle.position)\n",
    "            \n",
    "            particle.best_position = particle.position\n",
    "            particle.best_fitness = particle.fitness\n",
    "            \n",
    "            if self.gbest.fitness < particle.best_fitness:\n",
    "                self.gbest.fitness = particle.best_fitness\n",
    "                self.gbest.position = particle.best_position\n",
    "            \n",
    "            \n",
    "            self.Swarm.append(particle)\n",
    "            \n",
    "        self.best_solutions.append(self.gbest)\n",
    "        \n",
    "    def optimize(self):\n",
    "        \n",
    "        for particle in self.Swarm:\n",
    "            cognitive = self.c1 * np.random.rand(self.n_dims) * (particle.best_position - particle.position)\n",
    "            social = self.c2 * np.random.rand(self.n_dims) * (self.gbest.position - particle.position)\n",
    "            particle.velocity = self.weight_func() * particle.velocity + cognitive + social\n",
    "            particle.position = particle.position + particle.velocity\n",
    "            \n",
    "            particle.position = self._constraint_solutions(particle.position)\n",
    "            \n",
    "            particle.fitness = self.fitness_eval_func(particle.position)\n",
    "            \n",
    "            if particle.best_fitness < particle.fitness:\n",
    "                particle.best_fitness = particle.fitness\n",
    "                particle.best_position = particle.position\n",
    "                \n",
    "            if self.gbest.fitness < particle.best_fitness:\n",
    "                self.gbest.fitness = particle.best_fitness\n",
    "                self.gbest.postion = particle.best_position\n",
    "             \n",
    "        self.best_solutions.append(self.gbest)\n",
    "        \n",
    "    def _constraint_solutions(self, position):\n",
    "        start = 0\n",
    "        for end in self.dim_limits:\n",
    "            position[start:end] = np.maximum(position[start:end], self.dim_limits[end][0]) #minimum limit\n",
    "            position[start:end] = np.minimum(position[start:end], self.dim_limits[end][1]) # maximum limit\n",
    "            \n",
    "            start = end\n",
    "            \n",
    "        return position    "
   ]
  },
  {
   "cell_type": "code",
   "execution_count": null,
   "id": "e35b60e5",
   "metadata": {},
   "outputs": [],
   "source": [
    "#export\n",
    "def random_weight():\n",
    "    return 0.5 * (np.random.rand() / 2)"
   ]
  },
  {
   "cell_type": "code",
   "execution_count": null,
   "id": "068061af",
   "metadata": {},
   "outputs": [
    {
     "name": "stdout",
     "output_type": "stream",
     "text": [
      "Converted 00_utils.data.dataset.ipynb.\n",
      "Converted 01_utils.data.dataloaders.ipynb.\n",
      "Converted 02_utils.vizualize.ipynb.\n",
      "Converted 03_callbacks.ipynb.\n",
      "Converted 03a_hooks.ipynb.\n",
      "Converted 04_learner.ipynb.\n",
      "Converted 05_metrics.ipynb.\n",
      "Converted 06_NIA.PSO.ipynb.\n",
      "Converted 06_NIA.WOA.ipynb.\n",
      "Converted index.ipynb.\n"
     ]
    }
   ],
   "source": [
    "from nbdev.export import notebook2script; notebook2script()"
   ]
  },
  {
   "cell_type": "code",
   "execution_count": null,
   "id": "3cc60b68",
   "metadata": {},
   "outputs": [],
   "source": []
  }
 ],
 "metadata": {
  "kernelspec": {
   "display_name": "Python 3",
   "language": "python",
   "name": "python3"
  }
 },
 "nbformat": 4,
 "nbformat_minor": 5
}
