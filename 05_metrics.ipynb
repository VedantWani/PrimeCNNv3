{
 "cells": [
  {
   "cell_type": "code",
   "execution_count": null,
   "metadata": {},
   "outputs": [],
   "source": [
    "%load_ext autoreload\n",
    "%autoreload 2"
   ]
  },
  {
   "cell_type": "code",
   "execution_count": null,
   "metadata": {},
   "outputs": [],
   "source": [
    "#default_exp metric"
   ]
  },
  {
   "cell_type": "code",
   "execution_count": null,
   "metadata": {},
   "outputs": [],
   "source": [
    "#export\n",
    "from PrimeCNNv3.imports import *\n",
    "from sklearn.metrics import precision_score, recall_score, f1_score, fbeta_score\n",
    "from sklearn.metrics import confusion_matrix as cm\n",
    "import seaborn as sns"
   ]
  },
  {
   "cell_type": "markdown",
   "metadata": {},
   "source": [
    "# Metric"
   ]
  },
  {
   "cell_type": "markdown",
   "metadata": {},
   "source": [
    "Scikit learn metric and custom metrics"
   ]
  },
  {
   "cell_type": "code",
   "execution_count": null,
   "metadata": {},
   "outputs": [],
   "source": [
    "#export\n",
    "def accuracy(preds, target, dim = -1, index = True):\n",
    "    '''\n",
    "        Returns accuracy\n",
    "        \n",
    "        Args:\n",
    "        if index is True\n",
    "        preds (torch_tensor): prediction of the model\n",
    "        target (torch): target values\n",
    "        dim: dimention to use\n",
    "    '''\n",
    "    if not index:\n",
    "        return (preds == target).float().mean().item()\n",
    "    return (preds.argmax(dim = dim) == target).float().mean().item()"
   ]
  },
  {
   "cell_type": "code",
   "execution_count": null,
   "metadata": {},
   "outputs": [],
   "source": [
    "#export\n",
    "def error_rate(preds, target, dim = -1, index = True):\n",
    "    '''\n",
    "        Returns error_rate\n",
    "        1- accuracy\n",
    "        \n",
    "        Args:\n",
    "        preds (torch tensor): prediction of the model\n",
    "        target (torch tensor): target values\n",
    "        dim: dimention to use\n",
    "    '''\n",
    "    return 1 - accuracy(preds=preds, target = target, dim = dim, index = index)"
   ]
  },
  {
   "cell_type": "code",
   "execution_count": null,
   "metadata": {},
   "outputs": [],
   "source": [
    "#export\n",
    "def precision(preds, target, dim = -1, average = 'macro',index = True, **kwargs):\n",
    "    '''Global average precision score'''\n",
    "    if not index:\n",
    "        return precision_score(y_pred=preds.numpy(), y_true = target.numpy(), average=average, **kwargs)\n",
    "    return precision_score(y_pred=preds.argmax(dim = dim).numpy(), y_true = target.numpy(), average=average, **kwargs)"
   ]
  },
  {
   "cell_type": "code",
   "execution_count": null,
   "metadata": {},
   "outputs": [],
   "source": [
    "#export\n",
    "def recall(preds, target, dim = -1,average = 'macro',index = True, **kwargs):\n",
    "    if not index:\n",
    "        return recall_score(y_pred=preds.numpy(), y_true = target.numpy(), average=average, **kwargs)\n",
    "    return recall_score(y_pred=preds.argmax(dim = dim).numpy(), y_true = target.numpy(), average=average, **kwargs)"
   ]
  },
  {
   "cell_type": "code",
   "execution_count": null,
   "metadata": {},
   "outputs": [],
   "source": [
    "#export\n",
    "def f1score(preds, target, dim = -1, average = 'macro', index = True, **kwargs):\n",
    "    if not index:\n",
    "        return f1_score(y_pred=preds.numpy(), y_true = target.numpy(), average=average, **kwargs)\n",
    "    return f1_score(y_pred=preds.argmax(dim = dim).numpy(), y_true = target.numpy(), average=average, **kwargs)"
   ]
  },
  {
   "cell_type": "code",
   "execution_count": null,
   "metadata": {},
   "outputs": [],
   "source": [
    "#export \n",
    "def f1beta(beta, preds, target, dim = -1, average = 'macro', index = True, **kwargs)\n",
    "    if not index:\n",
    "        return fbeta_score(beta = beta, y_pred=preds.numpy(), y_true = target.numpy(), average=average, **kwargs)\n",
    "    return fbeta_score(beta = beta, y_pred=preds.argmax(dim = dim).numpy(), y_true = target.numpy(), average=average, **kwargs)"
   ]
  },
  {
   "cell_type": "code",
   "execution_count": null,
   "metadata": {},
   "outputs": [],
   "source": [
    "#export\n",
    "def confusion_matrix(preds, target, labels = None, **kwargs):\n",
    "    return cm(y_pred=preds, y_true=target,**kwargs)\n",
    "   "
   ]
  },
  {
   "cell_type": "code",
   "execution_count": null,
   "metadata": {},
   "outputs": [],
   "source": [
    "#export\n",
    "def plot_confusion_matrix(preds, target, labels = None, **kwargs):\n",
    "    sns.heatmap(cm(y_pred=preds, y_true=target), annot = True, cmap=\"Blues\", fmt='d', xticklabels=labels,yticklabels=labels, cbar = False )\n",
    "    plt.xlabel('Predicted')\n",
    "    plt.ylabel('Target')"
   ]
  },
  {
   "cell_type": "code",
   "execution_count": null,
   "metadata": {},
   "outputs": [
    {
     "name": "stdout",
     "output_type": "stream",
     "text": [
      "Converted 00_utils.data.dataset.ipynb.\n",
      "Converted 01_utils.data.dataloaders.ipynb.\n",
      "Converted 02_utils.vizualize.ipynb.\n",
      "Converted 03_callbacks.ipynb.\n",
      "Converted 04_learner.ipynb.\n",
      "Converted 05_metrics.ipynb.\n",
      "Converted index.ipynb.\n"
     ]
    }
   ],
   "source": [
    "from nbdev.export import notebook2script; notebook2script()"
   ]
  },
  {
   "cell_type": "code",
   "execution_count": null,
   "metadata": {},
   "outputs": [],
   "source": []
  }
 ],
 "metadata": {
  "kernelspec": {
   "display_name": "Python 3",
   "language": "python",
   "name": "python3"
  }
 },
 "nbformat": 4,
 "nbformat_minor": 4
}
