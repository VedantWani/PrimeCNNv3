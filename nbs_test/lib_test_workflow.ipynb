{
 "cells": [
  {
   "cell_type": "code",
   "execution_count": null,
   "metadata": {},
   "outputs": [],
   "source": [
    "%load_ext autoreload\n",
    "%autoreload 2"
   ]
  },
  {
   "cell_type": "markdown",
   "metadata": {},
   "source": [
    "# Dataset test"
   ]
  },
  {
   "cell_type": "code",
   "execution_count": null,
   "metadata": {},
   "outputs": [],
   "source": [
    "from PrimeCNNv3.imports import *\n",
    "from PrimeCNNv3.utils.data.dataset import *"
   ]
  },
  {
   "cell_type": "code",
   "execution_count": null,
   "metadata": {},
   "outputs": [],
   "source": [
    "#hide\n",
    "\n",
    "\n",
    "\n",
    "SEED = 0\n",
    "\n",
    "np.random.seed(SEED)\n",
    "random.seed(SEED)\n",
    "\n",
    "train_filepath = Path('../../../CovidX/data/train_COVIDx5.txt')\n",
    "\n",
    "with open(train_filepath,'r') as file:\n",
    "    cxr_list = np.array([line.rstrip('\\n') for line in file])\n",
    "\n"
   ]
  },
  {
   "cell_type": "code",
   "execution_count": null,
   "metadata": {},
   "outputs": [],
   "source": [
    "train_data = get_dataset(train_filepath, seed=0)"
   ]
  },
  {
   "cell_type": "code",
   "execution_count": null,
   "metadata": {},
   "outputs": [],
   "source": [
    "#hide\n",
    "train_lst, valid_lst = get_train_val_split(train_data, valid_pct=0.2, seed = 0)"
   ]
  },
  {
   "cell_type": "code",
   "execution_count": null,
   "metadata": {},
   "outputs": [],
   "source": [
    "#hide\n",
    "#stats\n",
    "\n",
    "train_count = {'normal': 0, 'pneumonia': 0, 'COVID-19': 0}\n",
    "valid_count = {'normal': 0, 'pneumonia': 0, 'COVID-19': 0}\n",
    "\n",
    "#for train ds\n",
    "for element in train_lst:\n",
    "    pathlogy = element.split()[-2]\n",
    "    train_count[pathlogy] += 1\n",
    "\n",
    "#for valid ds\n",
    "for element in valid_lst:\n",
    "    pathlogy = element.split()[-2]\n",
    "    valid_count[pathlogy] += 1"
   ]
  },
  {
   "cell_type": "code",
   "execution_count": null,
   "metadata": {},
   "outputs": [
    {
     "name": "stdout",
     "output_type": "stream",
     "text": [
      "{'normal': 6427, 'pneumonia': 4332, 'COVID-19': 408}\n",
      "{'normal': 1539, 'pneumonia': 1143, 'COVID-19': 109}\n"
     ]
    }
   ],
   "source": [
    "#hide\n",
    "print(train_count)\n",
    "print(valid_count)"
   ]
  },
  {
   "cell_type": "code",
   "execution_count": null,
   "metadata": {},
   "outputs": [],
   "source": [
    "train_ds = CovidXDataset(Path('../../../CovidX/data/train'), train_data, seed = 42)"
   ]
  },
  {
   "cell_type": "code",
   "execution_count": null,
   "metadata": {},
   "outputs": [],
   "source": [
    "train_ds.show_images(10, nrows=3, rand=False)"
   ]
  },
  {
   "cell_type": "code",
   "execution_count": null,
   "metadata": {},
   "outputs": [],
   "source": [
    "train_ds.show_distribution()"
   ]
  },
  {
   "cell_type": "markdown",
   "metadata": {},
   "source": [
    "# Learner test"
   ]
  },
  {
   "cell_type": "code",
   "execution_count": null,
   "metadata": {},
   "outputs": [],
   "source": [
    "#hide\n",
    "import os\n",
    "from torchvision import datasets, models, transforms\n",
    "from PrimeCNNv3.utils.data.dataloaders import DataLoaders\n",
    "from PrimeCNNv3.utils.data.dataset import Dataset\n",
    "from PrimeCNNv3.callbacks import *\n",
    "from PrimeCNNv3.metric import *\n",
    "from PrimeCNNv3.learner import *"
   ]
  },
  {
   "cell_type": "code",
   "execution_count": null,
   "metadata": {},
   "outputs": [],
   "source": [
    "#hide\n",
    "random_seed(0)\n",
    "model = models.resnet18(pretrained = True)\n",
    "model.fc = nn.Linear(512, out_features=10, bias=True)\n",
    "transform=transforms.Compose([\n",
    "        transforms.ToTensor(),\n",
    "        transforms.Normalize([0.485, 0.456, 0.406],[0.229, 0.224, 0.225])\n",
    "        ])\n",
    "dataset1 = datasets.CIFAR10('../data', train=True, download=True,\n",
    "                       transform=transform)\n",
    "testset = datasets.CIFAR10(root='./data', train=False,\n",
    "                                       download=True, transform=transform)\n",
    "\n",
    "train_loader = torch.utils.data.DataLoader(dataset1,batch_size = 64)\n",
    "                                       \n",
    "valid_loader = torch.utils.data.DataLoader(testset, batch_size = 64)\n",
    "dls = DataLoaders(train_loader, valid_loader, device='cuda') \n",
    "\n",
    "cbs = [SetupLearnerCB(),Recorder(),ShowStats()]\n",
    "\n",
    "learn = Learner(model,dls, metric = [accuracy, precision, recall, f1score], \n",
    "                cbs = cbs,loss_func=nn.CrossEntropyLoss(), \n",
    "                opt_func=torch.optim.AdamW )"
   ]
  },
  {
   "cell_type": "code",
   "execution_count": null,
   "metadata": {},
   "outputs": [],
   "source": [
    "#hide\n",
    "random_seed(0)\n",
    "#learn.freeze()\n",
    "learn.lr_finder()"
   ]
  },
  {
   "cell_type": "code",
   "execution_count": null,
   "metadata": {},
   "outputs": [],
   "source": [
    "random_seed(0)\n",
    "learn.fit(5,1e-03,wd = 1e-04)"
   ]
  },
  {
   "cell_type": "code",
   "execution_count": null,
   "metadata": {},
   "outputs": [],
   "source": [
    "preds, target = learn.cbs[1].accumetric.get_target_preds_np()"
   ]
  },
  {
   "cell_type": "code",
   "execution_count": null,
   "metadata": {},
   "outputs": [],
   "source": [
    "classes = ['plane', 'car', 'bird', 'cat',\n",
    "           'deer', 'dog', 'frog', 'horse', 'ship', 'truck']\n",
    "plot_confusion_matrix(preds = preds, target=target, labels=classes)"
   ]
  }
 ],
 "metadata": {
  "kernelspec": {
   "display_name": "Python 3",
   "language": "python",
   "name": "python3"
  }
 },
 "nbformat": 4,
 "nbformat_minor": 4
}
